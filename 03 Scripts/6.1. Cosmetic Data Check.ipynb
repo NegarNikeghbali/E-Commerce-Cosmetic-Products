{
 "cells": [
  {
   "cell_type": "markdown",
   "id": "3e3c50e8",
   "metadata": {},
   "source": [
    "# Sourcing Open Data: E-commerce Cosmetic Products"
   ]
  },
  {
   "cell_type": "markdown",
   "id": "0f489b4a",
   "metadata": {},
   "source": [
    "# Table of contents:\n",
    "1. Importing libraries and Dataset\n",
    "2. Data Check\n",
    "3. Data Cleaning\n",
    "4. Renaming Columns\n",
    "5. Data Understanding"
   ]
  },
  {
   "cell_type": "markdown",
   "id": "3be23d46",
   "metadata": {},
   "source": [
    "## 1. Importing libraries and Dataset"
   ]
  },
  {
   "cell_type": "code",
   "execution_count": 1,
   "id": "8493d242",
   "metadata": {},
   "outputs": [],
   "source": [
    "# import libraries\n",
    "import pandas as pd\n",
    "import numpy as np\n",
    "import os\n"
   ]
  },
  {
   "cell_type": "code",
   "execution_count": 2,
   "id": "d91714ba",
   "metadata": {},
   "outputs": [],
   "source": [
    "#import path and  E-commerce Cosmetic Products dataset\n",
    "path=r'E:\\E-commerce Cosmetic Products'"
   ]
  },
  {
   "cell_type": "code",
   "execution_count": 3,
   "id": "86215730",
   "metadata": {},
   "outputs": [],
   "source": [
    "# Load the dataset with a specified encoding\n",
    "df_cos = pd.read_csv(os.path.join(path, '02 Data', 'Original Data', 'Ecommerce_cosmetic_dataset.csv'), encoding='latin1', index_col=False)"
   ]
  },
  {
   "cell_type": "markdown",
   "id": "f09ca901",
   "metadata": {},
   "source": [
    "## 2. Data Check"
   ]
  },
  {
   "cell_type": "code",
   "execution_count": 4,
   "id": "e01dd098",
   "metadata": {},
   "outputs": [
    {
     "data": {
      "text/html": [
       "<div>\n",
       "<style scoped>\n",
       "    .dataframe tbody tr th:only-of-type {\n",
       "        vertical-align: middle;\n",
       "    }\n",
       "\n",
       "    .dataframe tbody tr th {\n",
       "        vertical-align: top;\n",
       "    }\n",
       "\n",
       "    .dataframe thead th {\n",
       "        text-align: right;\n",
       "    }\n",
       "</style>\n",
       "<table border=\"1\" class=\"dataframe\">\n",
       "  <thead>\n",
       "    <tr style=\"text-align: right;\">\n",
       "      <th></th>\n",
       "      <th>product_name</th>\n",
       "      <th>website</th>\n",
       "      <th>country</th>\n",
       "      <th>category</th>\n",
       "      <th>subcategory</th>\n",
       "      <th>title-href</th>\n",
       "      <th>price</th>\n",
       "      <th>brand</th>\n",
       "      <th>ingredients</th>\n",
       "      <th>form</th>\n",
       "      <th>type</th>\n",
       "      <th>color</th>\n",
       "      <th>size</th>\n",
       "      <th>rating</th>\n",
       "      <th>noofratings</th>\n",
       "    </tr>\n",
       "  </thead>\n",
       "  <tbody>\n",
       "    <tr>\n",
       "      <th>0</th>\n",
       "      <td>Carlton London Incense Eau da parfum, Premium ...</td>\n",
       "      <td>Flipkart</td>\n",
       "      <td>India</td>\n",
       "      <td>body</td>\n",
       "      <td>perfume</td>\n",
       "      <td>https://www.amazon.in/Carlton-London-Limited-I...</td>\n",
       "      <td>599.0</td>\n",
       "      <td>Carlton London</td>\n",
       "      <td>NaN</td>\n",
       "      <td>aerosol</td>\n",
       "      <td>NaN</td>\n",
       "      <td>Top Note: Orange Blossom, Blackberry | Heart N...</td>\n",
       "      <td>100</td>\n",
       "      <td>3.9</td>\n",
       "      <td>19</td>\n",
       "    </tr>\n",
       "    <tr>\n",
       "      <th>1</th>\n",
       "      <td>CHARLENE SPRAY MIST PERFUME 30 - INTIMATE (PAC...</td>\n",
       "      <td>Flipkart</td>\n",
       "      <td>India</td>\n",
       "      <td>body</td>\n",
       "      <td>perfume</td>\n",
       "      <td>https://www.amazon.in/CHARLENE-SPRAY-MIST-PERF...</td>\n",
       "      <td>149.0</td>\n",
       "      <td>Charlene</td>\n",
       "      <td>NaN</td>\n",
       "      <td>aerosol</td>\n",
       "      <td>NaN</td>\n",
       "      <td>Unit count type:</td>\n",
       "      <td>30</td>\n",
       "      <td>4.4</td>\n",
       "      <td>4,031</td>\n",
       "    </tr>\n",
       "    <tr>\n",
       "      <th>2</th>\n",
       "      <td>CHARLENE SPRAY MIST PERFUME 30 - INTIMATE (PAC...</td>\n",
       "      <td>Flipkart</td>\n",
       "      <td>India</td>\n",
       "      <td>body</td>\n",
       "      <td>perfume</td>\n",
       "      <td>https://www.amazon.in/CHARLENE-SPRAY-MIST-PERF...</td>\n",
       "      <td>298.0</td>\n",
       "      <td>Charlene</td>\n",
       "      <td>NaN</td>\n",
       "      <td>aerosol</td>\n",
       "      <td>NaN</td>\n",
       "      <td>Unit count type:</td>\n",
       "      <td>30</td>\n",
       "      <td>4.4</td>\n",
       "      <td>4,072</td>\n",
       "    </tr>\n",
       "    <tr>\n",
       "      <th>3</th>\n",
       "      <td>DENVER Black Code Perfume - 60 | Eau de Parfum...</td>\n",
       "      <td>Flipkart</td>\n",
       "      <td>India</td>\n",
       "      <td>body</td>\n",
       "      <td>perfume</td>\n",
       "      <td>https://www.amazon.in/DENVER-Black-Code-Perfum...</td>\n",
       "      <td>245.0</td>\n",
       "      <td>Denver</td>\n",
       "      <td>NaN</td>\n",
       "      <td>aerosol</td>\n",
       "      <td>NaN</td>\n",
       "      <td>Long-Lasting Scent</td>\n",
       "      <td>60</td>\n",
       "      <td>4.2</td>\n",
       "      <td>61</td>\n",
       "    </tr>\n",
       "    <tr>\n",
       "      <th>4</th>\n",
       "      <td>Denver Hamilton Perfume - 100 | Long Lasting P...</td>\n",
       "      <td>Flipkart</td>\n",
       "      <td>India</td>\n",
       "      <td>body</td>\n",
       "      <td>perfume</td>\n",
       "      <td>https://www.amazon.in/Denver-Perfume-Hamilton-...</td>\n",
       "      <td>422.0</td>\n",
       "      <td>Denver</td>\n",
       "      <td>NaN</td>\n",
       "      <td>aerosol</td>\n",
       "      <td>NaN</td>\n",
       "      <td>Long-Lasting Scent</td>\n",
       "      <td>100</td>\n",
       "      <td>4.3</td>\n",
       "      <td>342</td>\n",
       "    </tr>\n",
       "    <tr>\n",
       "      <th>5</th>\n",
       "      <td>Engage Fantasia Perfume for Women, Long Lastin...</td>\n",
       "      <td>Flipkart</td>\n",
       "      <td>India</td>\n",
       "      <td>body</td>\n",
       "      <td>perfume</td>\n",
       "      <td>https://www.amazon.in/Engage-Fantasia-Perfume-...</td>\n",
       "      <td>422.0</td>\n",
       "      <td>Engage</td>\n",
       "      <td>NaN</td>\n",
       "      <td>aerosol</td>\n",
       "      <td>NaN</td>\n",
       "      <td>Engage Fantasia is a premium, long lasting per...</td>\n",
       "      <td>100</td>\n",
       "      <td>4.4</td>\n",
       "      <td>13,101</td>\n",
       "    </tr>\n",
       "    <tr>\n",
       "      <th>6</th>\n",
       "      <td>Engage Verona Perfume for Women, Long Lasting,...</td>\n",
       "      <td>Flipkart</td>\n",
       "      <td>India</td>\n",
       "      <td>body</td>\n",
       "      <td>perfume</td>\n",
       "      <td>https://www.amazon.in/Engage-Verona-Perfume-La...</td>\n",
       "      <td>422.0</td>\n",
       "      <td>Engage</td>\n",
       "      <td>NaN</td>\n",
       "      <td>aerosol</td>\n",
       "      <td>NaN</td>\n",
       "      <td>Inspired by citrus grooves, Engage Verona is a...</td>\n",
       "      <td>100</td>\n",
       "      <td>4.3</td>\n",
       "      <td>515</td>\n",
       "    </tr>\n",
       "    <tr>\n",
       "      <th>7</th>\n",
       "      <td>Engage One Soul Gender-free Perfume, Unisex, L...</td>\n",
       "      <td>Flipkart</td>\n",
       "      <td>India</td>\n",
       "      <td>body</td>\n",
       "      <td>perfume</td>\n",
       "      <td>https://www.amazon.in/Engage-Gender-free-Perfu...</td>\n",
       "      <td>422.0</td>\n",
       "      <td>Engage</td>\n",
       "      <td>NaN</td>\n",
       "      <td>aerosol</td>\n",
       "      <td>NaN</td>\n",
       "      <td>Engage One Soul is a gender free and long last...</td>\n",
       "      <td>100</td>\n",
       "      <td>4.5</td>\n",
       "      <td>9,665</td>\n",
       "    </tr>\n",
       "    <tr>\n",
       "      <th>8</th>\n",
       "      <td>Engage Indigo Skies Perfume for Men, Long Last...</td>\n",
       "      <td>Flipkart</td>\n",
       "      <td>India</td>\n",
       "      <td>body</td>\n",
       "      <td>perfume</td>\n",
       "      <td>https://www.amazon.in/Engage-Indigo-Perfume-La...</td>\n",
       "      <td>422.0</td>\n",
       "      <td>Engage</td>\n",
       "      <td>NaN</td>\n",
       "      <td>aerosol</td>\n",
       "      <td>NaN</td>\n",
       "      <td>Engage Indigo Skies is a premium, long lasting...</td>\n",
       "      <td>100</td>\n",
       "      <td>4.3</td>\n",
       "      <td>54</td>\n",
       "    </tr>\n",
       "    <tr>\n",
       "      <th>9</th>\n",
       "      <td>ENVY Men Perfume - 70 | Eau da parfum - For Me...</td>\n",
       "      <td>Flipkart</td>\n",
       "      <td>India</td>\n",
       "      <td>body</td>\n",
       "      <td>perfume</td>\n",
       "      <td>https://www.amazon.in/ENVY-Men-Perfume-parfum-...</td>\n",
       "      <td>236.0</td>\n",
       "      <td>Envy</td>\n",
       "      <td>NaN</td>\n",
       "      <td>aerosol</td>\n",
       "      <td>NaN</td>\n",
       "      <td>Long-Lasting Scent</td>\n",
       "      <td>70</td>\n",
       "      <td>4.2</td>\n",
       "      <td>842</td>\n",
       "    </tr>\n",
       "  </tbody>\n",
       "</table>\n",
       "</div>"
      ],
      "text/plain": [
       "                                        product_name   website country  \\\n",
       "0  Carlton London Incense Eau da parfum, Premium ...  Flipkart   India   \n",
       "1  CHARLENE SPRAY MIST PERFUME 30 - INTIMATE (PAC...  Flipkart   India   \n",
       "2  CHARLENE SPRAY MIST PERFUME 30 - INTIMATE (PAC...  Flipkart   India   \n",
       "3  DENVER Black Code Perfume - 60 | Eau de Parfum...  Flipkart   India   \n",
       "4  Denver Hamilton Perfume - 100 | Long Lasting P...  Flipkart   India   \n",
       "5  Engage Fantasia Perfume for Women, Long Lastin...  Flipkart   India   \n",
       "6  Engage Verona Perfume for Women, Long Lasting,...  Flipkart   India   \n",
       "7  Engage One Soul Gender-free Perfume, Unisex, L...  Flipkart   India   \n",
       "8  Engage Indigo Skies Perfume for Men, Long Last...  Flipkart   India   \n",
       "9  ENVY Men Perfume - 70 | Eau da parfum - For Me...  Flipkart   India   \n",
       "\n",
       "  category subcategory                                         title-href  \\\n",
       "0     body     perfume  https://www.amazon.in/Carlton-London-Limited-I...   \n",
       "1     body     perfume  https://www.amazon.in/CHARLENE-SPRAY-MIST-PERF...   \n",
       "2     body     perfume  https://www.amazon.in/CHARLENE-SPRAY-MIST-PERF...   \n",
       "3     body     perfume  https://www.amazon.in/DENVER-Black-Code-Perfum...   \n",
       "4     body     perfume  https://www.amazon.in/Denver-Perfume-Hamilton-...   \n",
       "5     body     perfume  https://www.amazon.in/Engage-Fantasia-Perfume-...   \n",
       "6     body     perfume  https://www.amazon.in/Engage-Verona-Perfume-La...   \n",
       "7     body     perfume  https://www.amazon.in/Engage-Gender-free-Perfu...   \n",
       "8     body     perfume  https://www.amazon.in/Engage-Indigo-Perfume-La...   \n",
       "9     body     perfume  https://www.amazon.in/ENVY-Men-Perfume-parfum-...   \n",
       "\n",
       "   price           brand ingredients     form type  \\\n",
       "0  599.0  Carlton London         NaN  aerosol  NaN   \n",
       "1  149.0        Charlene         NaN  aerosol  NaN   \n",
       "2  298.0        Charlene         NaN  aerosol  NaN   \n",
       "3  245.0          Denver         NaN  aerosol  NaN   \n",
       "4  422.0          Denver         NaN  aerosol  NaN   \n",
       "5  422.0          Engage         NaN  aerosol  NaN   \n",
       "6  422.0          Engage         NaN  aerosol  NaN   \n",
       "7  422.0          Engage         NaN  aerosol  NaN   \n",
       "8  422.0          Engage         NaN  aerosol  NaN   \n",
       "9  236.0            Envy         NaN  aerosol  NaN   \n",
       "\n",
       "                                               color size rating noofratings  \n",
       "0  Top Note: Orange Blossom, Blackberry | Heart N...  100    3.9          19  \n",
       "1                                   Unit count type:   30    4.4       4,031  \n",
       "2                                   Unit count type:   30    4.4       4,072  \n",
       "3                                 Long-Lasting Scent   60    4.2          61  \n",
       "4                                 Long-Lasting Scent  100    4.3         342  \n",
       "5  Engage Fantasia is a premium, long lasting per...  100    4.4      13,101  \n",
       "6  Inspired by citrus grooves, Engage Verona is a...  100    4.3         515  \n",
       "7  Engage One Soul is a gender free and long last...  100    4.5       9,665  \n",
       "8  Engage Indigo Skies is a premium, long lasting...  100    4.3          54  \n",
       "9                                 Long-Lasting Scent   70    4.2         842  "
      ]
     },
     "execution_count": 4,
     "metadata": {},
     "output_type": "execute_result"
    }
   ],
   "source": [
    "df_cos.head(10)"
   ]
  },
  {
   "cell_type": "code",
   "execution_count": 5,
   "id": "c9774dac",
   "metadata": {
    "scrolled": false
   },
   "outputs": [
    {
     "data": {
      "text/plain": [
       "(12615, 15)"
      ]
     },
     "execution_count": 5,
     "metadata": {},
     "output_type": "execute_result"
    }
   ],
   "source": [
    "df_cos.shape"
   ]
  },
  {
   "cell_type": "code",
   "execution_count": 6,
   "id": "c043f3a6",
   "metadata": {},
   "outputs": [
    {
     "name": "stdout",
     "output_type": "stream",
     "text": [
      "<class 'pandas.core.frame.DataFrame'>\n",
      "RangeIndex: 12615 entries, 0 to 12614\n",
      "Data columns (total 15 columns):\n",
      " #   Column        Non-Null Count  Dtype  \n",
      "---  ------        --------------  -----  \n",
      " 0   product_name  12615 non-null  object \n",
      " 1   website       12615 non-null  object \n",
      " 2   country       12615 non-null  object \n",
      " 3   category      12615 non-null  object \n",
      " 4   subcategory   12615 non-null  object \n",
      " 5   title-href    12615 non-null  object \n",
      " 6   price         12298 non-null  float64\n",
      " 7   brand         12615 non-null  object \n",
      " 8   ingredients   6600 non-null   object \n",
      " 9   form          12615 non-null  object \n",
      " 10  type          9934 non-null   object \n",
      " 11  color         10626 non-null  object \n",
      " 12  size          9449 non-null   object \n",
      " 13  rating        10548 non-null  object \n",
      " 14  noofratings   12156 non-null  object \n",
      "dtypes: float64(1), object(14)\n",
      "memory usage: 1.4+ MB\n"
     ]
    }
   ],
   "source": [
    "df_cos.info()"
   ]
  },
  {
   "cell_type": "markdown",
   "id": "3f7de5f5",
   "metadata": {},
   "source": [
    "## 3.Data Cleaning"
   ]
  },
  {
   "cell_type": "markdown",
   "id": "0a72af59",
   "metadata": {},
   "source": [
    "##### I made a selection of which columns I keep and which ones I can remove for my project. I will first make a dataframe of the columns I keep before I do consistency checks and data cleaning."
   ]
  },
  {
   "cell_type": "code",
   "execution_count": 7,
   "id": "1729090d",
   "metadata": {},
   "outputs": [],
   "source": [
    "# Columns'Product_name', 'title_hef' ,'ingredients' are removed\n",
    "columns_to_keep = ['website', 'country', 'category', 'subcategory', 'price', 'brand', 'form', 'type', 'color', 'size', 'rating', 'noofratings']\n",
    "df_cosmetic = df_cos[columns_to_keep]"
   ]
  },
  {
   "cell_type": "code",
   "execution_count": 8,
   "id": "aa731c38",
   "metadata": {},
   "outputs": [
    {
     "data": {
      "text/plain": [
       "(12615, 12)"
      ]
     },
     "execution_count": 8,
     "metadata": {},
     "output_type": "execute_result"
    }
   ],
   "source": [
    "df_cosmetic.shape"
   ]
  },
  {
   "cell_type": "code",
   "execution_count": 9,
   "id": "95693095",
   "metadata": {},
   "outputs": [
    {
     "name": "stdout",
     "output_type": "stream",
     "text": [
      "type\n",
      "color\n",
      "size\n",
      "rating\n",
      "noofratings\n"
     ]
    },
    {
     "name": "stderr",
     "output_type": "stream",
     "text": [
      "C:\\Users\\negar\\AppData\\Local\\Temp\\ipykernel_19044\\2371407318.py:3: FutureWarning: DataFrame.applymap has been deprecated. Use DataFrame.map instead.\n",
      "  weird = (df_cosmetic[[col]].applymap(type) != df_cosmetic[[col]].iloc[0].apply(type)).any(axis = 1)\n",
      "C:\\Users\\negar\\AppData\\Local\\Temp\\ipykernel_19044\\2371407318.py:3: FutureWarning: DataFrame.applymap has been deprecated. Use DataFrame.map instead.\n",
      "  weird = (df_cosmetic[[col]].applymap(type) != df_cosmetic[[col]].iloc[0].apply(type)).any(axis = 1)\n",
      "C:\\Users\\negar\\AppData\\Local\\Temp\\ipykernel_19044\\2371407318.py:3: FutureWarning: DataFrame.applymap has been deprecated. Use DataFrame.map instead.\n",
      "  weird = (df_cosmetic[[col]].applymap(type) != df_cosmetic[[col]].iloc[0].apply(type)).any(axis = 1)\n",
      "C:\\Users\\negar\\AppData\\Local\\Temp\\ipykernel_19044\\2371407318.py:3: FutureWarning: DataFrame.applymap has been deprecated. Use DataFrame.map instead.\n",
      "  weird = (df_cosmetic[[col]].applymap(type) != df_cosmetic[[col]].iloc[0].apply(type)).any(axis = 1)\n",
      "C:\\Users\\negar\\AppData\\Local\\Temp\\ipykernel_19044\\2371407318.py:3: FutureWarning: DataFrame.applymap has been deprecated. Use DataFrame.map instead.\n",
      "  weird = (df_cosmetic[[col]].applymap(type) != df_cosmetic[[col]].iloc[0].apply(type)).any(axis = 1)\n",
      "C:\\Users\\negar\\AppData\\Local\\Temp\\ipykernel_19044\\2371407318.py:3: FutureWarning: DataFrame.applymap has been deprecated. Use DataFrame.map instead.\n",
      "  weird = (df_cosmetic[[col]].applymap(type) != df_cosmetic[[col]].iloc[0].apply(type)).any(axis = 1)\n",
      "C:\\Users\\negar\\AppData\\Local\\Temp\\ipykernel_19044\\2371407318.py:3: FutureWarning: DataFrame.applymap has been deprecated. Use DataFrame.map instead.\n",
      "  weird = (df_cosmetic[[col]].applymap(type) != df_cosmetic[[col]].iloc[0].apply(type)).any(axis = 1)\n",
      "C:\\Users\\negar\\AppData\\Local\\Temp\\ipykernel_19044\\2371407318.py:3: FutureWarning: DataFrame.applymap has been deprecated. Use DataFrame.map instead.\n",
      "  weird = (df_cosmetic[[col]].applymap(type) != df_cosmetic[[col]].iloc[0].apply(type)).any(axis = 1)\n",
      "C:\\Users\\negar\\AppData\\Local\\Temp\\ipykernel_19044\\2371407318.py:3: FutureWarning: DataFrame.applymap has been deprecated. Use DataFrame.map instead.\n",
      "  weird = (df_cosmetic[[col]].applymap(type) != df_cosmetic[[col]].iloc[0].apply(type)).any(axis = 1)\n",
      "C:\\Users\\negar\\AppData\\Local\\Temp\\ipykernel_19044\\2371407318.py:3: FutureWarning: DataFrame.applymap has been deprecated. Use DataFrame.map instead.\n",
      "  weird = (df_cosmetic[[col]].applymap(type) != df_cosmetic[[col]].iloc[0].apply(type)).any(axis = 1)\n",
      "C:\\Users\\negar\\AppData\\Local\\Temp\\ipykernel_19044\\2371407318.py:3: FutureWarning: DataFrame.applymap has been deprecated. Use DataFrame.map instead.\n",
      "  weird = (df_cosmetic[[col]].applymap(type) != df_cosmetic[[col]].iloc[0].apply(type)).any(axis = 1)\n",
      "C:\\Users\\negar\\AppData\\Local\\Temp\\ipykernel_19044\\2371407318.py:3: FutureWarning: DataFrame.applymap has been deprecated. Use DataFrame.map instead.\n",
      "  weird = (df_cosmetic[[col]].applymap(type) != df_cosmetic[[col]].iloc[0].apply(type)).any(axis = 1)\n"
     ]
    }
   ],
   "source": [
    "# check for mixed types\n",
    "for col in df_cosmetic.columns.tolist():\n",
    "  weird = (df_cosmetic[[col]].applymap(type) != df_cosmetic[[col]].iloc[0].apply(type)).any(axis = 1)\n",
    "  if len (df_cosmetic[weird]) > 0:\n",
    "    print (col)"
   ]
  },
  {
   "cell_type": "code",
   "execution_count": 10,
   "id": "7a163209",
   "metadata": {
    "scrolled": true
   },
   "outputs": [
    {
     "data": {
      "text/plain": [
       "type\n",
       "all                               5158\n",
       "NaN                               2681\n",
       "matte                              572\n",
       "combination, dry, normal, oily     528\n",
       "shimmer                            447\n",
       "                                  ... \n",
       "Full Cover,Full                      1\n",
       "combinational,sensitive              1\n",
       "Lightweight Formula,Full             1\n",
       "Face                                 1\n",
       "fine, damaged                        1\n",
       "Name: count, Length: 134, dtype: int64"
      ]
     },
     "execution_count": 10,
     "metadata": {},
     "output_type": "execute_result"
    }
   ],
   "source": [
    "df_cosmetic['type'].value_counts(dropna = False)"
   ]
  },
  {
   "cell_type": "markdown",
   "id": "1fa70f65",
   "metadata": {},
   "source": [
    "##### 'type' Column \n",
    "because of 2681 NaN is mixed-type columns and I will  replaced it with Mode"
   ]
  },
  {
   "cell_type": "code",
   "execution_count": 11,
   "id": "6cef6fa7",
   "metadata": {
    "scrolled": true
   },
   "outputs": [
    {
     "data": {
      "text/plain": [
       "color\n",
       "No color            4197\n",
       "NaN                 1989\n",
       "Black                440\n",
       "Multicolor           192\n",
       "No colour            161\n",
       "                    ... \n",
       "Snowball               1\n",
       "5. Lustrous Nude       1\n",
       "Certainly Red          1\n",
       "Power Move             1\n",
       "Selfie Queen           1\n",
       "Name: count, Length: 3358, dtype: int64"
      ]
     },
     "execution_count": 11,
     "metadata": {},
     "output_type": "execute_result"
    }
   ],
   "source": [
    "df_cosmetic['color'].value_counts(dropna = False)"
   ]
  },
  {
   "cell_type": "markdown",
   "id": "726aafa6",
   "metadata": {},
   "source": [
    "##### 'color' Column\n",
    "have many false entered data such as NaN, #Error, 9#, 4#, long text,... so I will removed this column."
   ]
  },
  {
   "cell_type": "code",
   "execution_count": 12,
   "id": "d7289fcc",
   "metadata": {},
   "outputs": [
    {
     "data": {
      "text/plain": [
       "size\n",
       "NaN            3166\n",
       "30              835\n",
       "100             435\n",
       "200             349\n",
       "50              317\n",
       "               ... \n",
       "1.4 s             1\n",
       "0.19 Pounds       1\n",
       "13 s              1\n",
       "0.14 Kilos        1\n",
       "47                1\n",
       "Name: count, Length: 701, dtype: int64"
      ]
     },
     "execution_count": 12,
     "metadata": {},
     "output_type": "execute_result"
    }
   ],
   "source": [
    "df_cosmetic['size'].value_counts(dropna = False)"
   ]
  },
  {
   "cell_type": "markdown",
   "id": "b560238a",
   "metadata": {},
   "source": [
    "##### 'Size' Column\n",
    "The same unit for the size is not mentioned and could not be also estimated, therefore should this column be removed"
   ]
  },
  {
   "cell_type": "code",
   "execution_count": 13,
   "id": "1d92d3ba",
   "metadata": {
    "scrolled": false
   },
   "outputs": [
    {
     "data": {
      "text/plain": [
       "rating\n",
       "NaN     2067\n",
       "4.3      757\n",
       "4.2      714\n",
       "4.5      692\n",
       "4.4      689\n",
       "        ... \n",
       "1.7        1\n",
       "85         1\n",
       "53         1\n",
       "54         1\n",
       "3.95       1\n",
       "Name: count, Length: 254, dtype: int64"
      ]
     },
     "execution_count": 13,
     "metadata": {},
     "output_type": "execute_result"
    }
   ],
   "source": [
    "df_cosmetic['rating'].value_counts(dropna = False)"
   ]
  },
  {
   "cell_type": "markdown",
   "id": "a58a49e9",
   "metadata": {},
   "source": [
    "##### 'rating' Column\n",
    "has NaN that will be replaced with mean, and Data more than 5, als datas more than five will be corrected and replace with 5, type of the column will be corrected from object to floating point and these type of data:'2.8 out of 5 stars' and '3.5 out of 5 stars' will be replaced with 2.8 and 3.5 "
   ]
  },
  {
   "cell_type": "code",
   "execution_count": 14,
   "id": "fa51396b",
   "metadata": {
    "scrolled": true
   },
   "outputs": [
    {
     "data": {
      "text/plain": [
       "noofratings\n",
       "0             686\n",
       "No reviews    513\n",
       "NaN           459\n",
       "1             322\n",
       "14            318\n",
       "             ... \n",
       "12,653          1\n",
       "6,191           1\n",
       "3,985           1\n",
       "3,209           1\n",
       "587             1\n",
       "Name: count, Length: 2097, dtype: int64"
      ]
     },
     "execution_count": 14,
     "metadata": {},
     "output_type": "execute_result"
    }
   ],
   "source": [
    "df_cosmetic['noofratings'].value_counts(dropna = False)"
   ]
  },
  {
   "cell_type": "markdown",
   "id": "8190e839",
   "metadata": {},
   "source": [
    "##### 'noofratings' Column\n",
    "Column name will be renamed to Count of ratings\n",
    "the word of 'Ratings' in this column will be removed and the number will be remained. 'New to Amazon', 'No reviews', 'write A review' and 'NaN' will be replaced  with'0'\n",
    "type of the column will be Integer."
   ]
  },
  {
   "cell_type": "code",
   "execution_count": 15,
   "id": "043321c4",
   "metadata": {
    "scrolled": false
   },
   "outputs": [
    {
     "data": {
      "text/plain": [
       "website           0\n",
       "country           0\n",
       "category          0\n",
       "subcategory       0\n",
       "price           317\n",
       "brand             0\n",
       "form              0\n",
       "type           2681\n",
       "color          1989\n",
       "size           3166\n",
       "rating         2067\n",
       "noofratings     459\n",
       "dtype: int64"
      ]
     },
     "execution_count": 15,
     "metadata": {},
     "output_type": "execute_result"
    }
   ],
   "source": [
    "# finding missing values\n",
    "df_cosmetic.isnull().sum()"
   ]
  },
  {
   "cell_type": "code",
   "execution_count": 16,
   "id": "b84c52b8",
   "metadata": {
    "scrolled": false
   },
   "outputs": [
    {
     "data": {
      "text/html": [
       "<div>\n",
       "<style scoped>\n",
       "    .dataframe tbody tr th:only-of-type {\n",
       "        vertical-align: middle;\n",
       "    }\n",
       "\n",
       "    .dataframe tbody tr th {\n",
       "        vertical-align: top;\n",
       "    }\n",
       "\n",
       "    .dataframe thead th {\n",
       "        text-align: right;\n",
       "    }\n",
       "</style>\n",
       "<table border=\"1\" class=\"dataframe\">\n",
       "  <thead>\n",
       "    <tr style=\"text-align: right;\">\n",
       "      <th></th>\n",
       "      <th>website</th>\n",
       "      <th>country</th>\n",
       "      <th>category</th>\n",
       "      <th>subcategory</th>\n",
       "      <th>price</th>\n",
       "      <th>brand</th>\n",
       "      <th>form</th>\n",
       "      <th>type</th>\n",
       "      <th>color</th>\n",
       "      <th>size</th>\n",
       "      <th>rating</th>\n",
       "      <th>noofratings</th>\n",
       "    </tr>\n",
       "  </thead>\n",
       "  <tbody>\n",
       "    <tr>\n",
       "      <th>59</th>\n",
       "      <td>ulta</td>\n",
       "      <td>USA</td>\n",
       "      <td>body</td>\n",
       "      <td>bodywash</td>\n",
       "      <td>1634.0</td>\n",
       "      <td>Coco &amp; Eve</td>\n",
       "      <td>cream</td>\n",
       "      <td>all</td>\n",
       "      <td>No color</td>\n",
       "      <td>0</td>\n",
       "      <td>NaN</td>\n",
       "      <td>NaN</td>\n",
       "    </tr>\n",
       "    <tr>\n",
       "      <th>68</th>\n",
       "      <td>ulta</td>\n",
       "      <td>USA</td>\n",
       "      <td>body</td>\n",
       "      <td>bodywash</td>\n",
       "      <td>653.6</td>\n",
       "      <td>Da Bomb</td>\n",
       "      <td>cream</td>\n",
       "      <td>all</td>\n",
       "      <td>No color</td>\n",
       "      <td>210</td>\n",
       "      <td>NaN</td>\n",
       "      <td>NaN</td>\n",
       "    </tr>\n",
       "    <tr>\n",
       "      <th>72</th>\n",
       "      <td>ulta</td>\n",
       "      <td>USA</td>\n",
       "      <td>body</td>\n",
       "      <td>bodywash</td>\n",
       "      <td>653.6</td>\n",
       "      <td>Da Bomb</td>\n",
       "      <td>cream</td>\n",
       "      <td>all</td>\n",
       "      <td>No color</td>\n",
       "      <td>210</td>\n",
       "      <td>NaN</td>\n",
       "      <td>NaN</td>\n",
       "    </tr>\n",
       "    <tr>\n",
       "      <th>73</th>\n",
       "      <td>ulta</td>\n",
       "      <td>USA</td>\n",
       "      <td>body</td>\n",
       "      <td>bodywash</td>\n",
       "      <td>653.6</td>\n",
       "      <td>Da Bomb</td>\n",
       "      <td>cream</td>\n",
       "      <td>all</td>\n",
       "      <td>No color</td>\n",
       "      <td>210</td>\n",
       "      <td>5</td>\n",
       "      <td>2</td>\n",
       "    </tr>\n",
       "    <tr>\n",
       "      <th>78</th>\n",
       "      <td>ulta</td>\n",
       "      <td>USA</td>\n",
       "      <td>body</td>\n",
       "      <td>bodywash</td>\n",
       "      <td>653.6</td>\n",
       "      <td>Da Bomb</td>\n",
       "      <td>cream</td>\n",
       "      <td>all</td>\n",
       "      <td>No color</td>\n",
       "      <td>210</td>\n",
       "      <td>NaN</td>\n",
       "      <td>NaN</td>\n",
       "    </tr>\n",
       "    <tr>\n",
       "      <th>...</th>\n",
       "      <td>...</td>\n",
       "      <td>...</td>\n",
       "      <td>...</td>\n",
       "      <td>...</td>\n",
       "      <td>...</td>\n",
       "      <td>...</td>\n",
       "      <td>...</td>\n",
       "      <td>...</td>\n",
       "      <td>...</td>\n",
       "      <td>...</td>\n",
       "      <td>...</td>\n",
       "      <td>...</td>\n",
       "    </tr>\n",
       "    <tr>\n",
       "      <th>11835</th>\n",
       "      <td>ulta</td>\n",
       "      <td>USA</td>\n",
       "      <td>face</td>\n",
       "      <td>foundation</td>\n",
       "      <td>1143.8</td>\n",
       "      <td>ULTA Beauty Collection</td>\n",
       "      <td>powder</td>\n",
       "      <td>dry,oily,normal</td>\n",
       "      <td>Tan Neutral</td>\n",
       "      <td>10.5</td>\n",
       "      <td>4.2</td>\n",
       "      <td>322</td>\n",
       "    </tr>\n",
       "    <tr>\n",
       "      <th>12132</th>\n",
       "      <td>Sephora</td>\n",
       "      <td>India</td>\n",
       "      <td>face</td>\n",
       "      <td>concealer</td>\n",
       "      <td>1450.0</td>\n",
       "      <td>Smashbox</td>\n",
       "      <td>cream</td>\n",
       "      <td>Combination, Dry, Oily, Normal</td>\n",
       "      <td>No colour</td>\n",
       "      <td>10</td>\n",
       "      <td>3.14</td>\n",
       "      <td>14</td>\n",
       "    </tr>\n",
       "    <tr>\n",
       "      <th>12532</th>\n",
       "      <td>Sephora</td>\n",
       "      <td>India</td>\n",
       "      <td>face</td>\n",
       "      <td>concealer</td>\n",
       "      <td>2000.0</td>\n",
       "      <td>Sephora Collection</td>\n",
       "      <td>serum</td>\n",
       "      <td>Combination, Dry, Normal, Oily</td>\n",
       "      <td>No colour</td>\n",
       "      <td>30</td>\n",
       "      <td>3.1</td>\n",
       "      <td>9</td>\n",
       "    </tr>\n",
       "    <tr>\n",
       "      <th>12533</th>\n",
       "      <td>Sephora</td>\n",
       "      <td>India</td>\n",
       "      <td>face</td>\n",
       "      <td>concealer</td>\n",
       "      <td>2000.0</td>\n",
       "      <td>Sephora Collection</td>\n",
       "      <td>serum</td>\n",
       "      <td>Combination, Dry, Normal, Oily</td>\n",
       "      <td>No colour</td>\n",
       "      <td>30</td>\n",
       "      <td>3.1</td>\n",
       "      <td>9</td>\n",
       "    </tr>\n",
       "    <tr>\n",
       "      <th>12538</th>\n",
       "      <td>Sephora</td>\n",
       "      <td>India</td>\n",
       "      <td>face</td>\n",
       "      <td>blush</td>\n",
       "      <td>2400.0</td>\n",
       "      <td>PIXI</td>\n",
       "      <td>serum</td>\n",
       "      <td>Combination, Dry, Normal, Oily</td>\n",
       "      <td>No colour</td>\n",
       "      <td>30</td>\n",
       "      <td>3.11</td>\n",
       "      <td>11</td>\n",
       "    </tr>\n",
       "  </tbody>\n",
       "</table>\n",
       "<p>602 rows × 12 columns</p>\n",
       "</div>"
      ],
      "text/plain": [
       "       website country category subcategory   price                   brand  \\\n",
       "59        ulta     USA     body    bodywash  1634.0              Coco & Eve   \n",
       "68        ulta     USA     body    bodywash   653.6                 Da Bomb   \n",
       "72        ulta     USA     body    bodywash   653.6                 Da Bomb   \n",
       "73        ulta     USA     body    bodywash   653.6                 Da Bomb   \n",
       "78        ulta     USA     body    bodywash   653.6                 Da Bomb   \n",
       "...        ...     ...      ...         ...     ...                     ...   \n",
       "11835     ulta     USA     face  foundation  1143.8  ULTA Beauty Collection   \n",
       "12132  Sephora   India     face   concealer  1450.0                Smashbox   \n",
       "12532  Sephora   India     face   concealer  2000.0      Sephora Collection   \n",
       "12533  Sephora   India     face   concealer  2000.0      Sephora Collection   \n",
       "12538  Sephora   India     face       blush  2400.0                    PIXI   \n",
       "\n",
       "         form                            type        color  size rating  \\\n",
       "59      cream                             all     No color     0    NaN   \n",
       "68      cream                             all     No color   210    NaN   \n",
       "72      cream                             all     No color   210    NaN   \n",
       "73      cream                             all     No color   210      5   \n",
       "78      cream                             all     No color   210    NaN   \n",
       "...       ...                             ...          ...   ...    ...   \n",
       "11835  powder                 dry,oily,normal  Tan Neutral  10.5    4.2   \n",
       "12132   cream  Combination, Dry, Oily, Normal    No colour    10   3.14   \n",
       "12532   serum  Combination, Dry, Normal, Oily    No colour    30    3.1   \n",
       "12533   serum  Combination, Dry, Normal, Oily    No colour    30    3.1   \n",
       "12538   serum  Combination, Dry, Normal, Oily    No colour    30   3.11   \n",
       "\n",
       "      noofratings  \n",
       "59            NaN  \n",
       "68            NaN  \n",
       "72            NaN  \n",
       "73              2  \n",
       "78            NaN  \n",
       "...           ...  \n",
       "11835         322  \n",
       "12132          14  \n",
       "12532           9  \n",
       "12533           9  \n",
       "12538          11  \n",
       "\n",
       "[602 rows x 12 columns]"
      ]
     },
     "execution_count": 16,
     "metadata": {},
     "output_type": "execute_result"
    }
   ],
   "source": [
    "# find duplicates\n",
    "df_dups = df_cosmetic[df_cosmetic.duplicated()]\n",
    "df_dups"
   ]
  },
  {
   "cell_type": "code",
   "execution_count": 17,
   "id": "5dcf53bd",
   "metadata": {},
   "outputs": [
    {
     "data": {
      "text/plain": [
       "(602, 12)"
      ]
     },
     "execution_count": 17,
     "metadata": {},
     "output_type": "execute_result"
    }
   ],
   "source": [
    "df_dups.shape"
   ]
  },
  {
   "cell_type": "markdown",
   "id": "e1452e2c",
   "metadata": {},
   "source": [
    "### I will remove duplicates first"
   ]
  },
  {
   "cell_type": "code",
   "execution_count": 18,
   "id": "41e401b9",
   "metadata": {},
   "outputs": [],
   "source": [
    "#remove duplicates in-place\n",
    "df_cosmetic = df_cosmetic.drop_duplicates()"
   ]
  },
  {
   "cell_type": "code",
   "execution_count": 19,
   "id": "49a310cc",
   "metadata": {},
   "outputs": [
    {
     "data": {
      "text/html": [
       "<div>\n",
       "<style scoped>\n",
       "    .dataframe tbody tr th:only-of-type {\n",
       "        vertical-align: middle;\n",
       "    }\n",
       "\n",
       "    .dataframe tbody tr th {\n",
       "        vertical-align: top;\n",
       "    }\n",
       "\n",
       "    .dataframe thead th {\n",
       "        text-align: right;\n",
       "    }\n",
       "</style>\n",
       "<table border=\"1\" class=\"dataframe\">\n",
       "  <thead>\n",
       "    <tr style=\"text-align: right;\">\n",
       "      <th></th>\n",
       "      <th>website</th>\n",
       "      <th>country</th>\n",
       "      <th>category</th>\n",
       "      <th>subcategory</th>\n",
       "      <th>price</th>\n",
       "      <th>brand</th>\n",
       "      <th>form</th>\n",
       "      <th>type</th>\n",
       "      <th>color</th>\n",
       "      <th>size</th>\n",
       "      <th>rating</th>\n",
       "      <th>noofratings</th>\n",
       "    </tr>\n",
       "  </thead>\n",
       "  <tbody>\n",
       "  </tbody>\n",
       "</table>\n",
       "</div>"
      ],
      "text/plain": [
       "Empty DataFrame\n",
       "Columns: [website, country, category, subcategory, price, brand, form, type, color, size, rating, noofratings]\n",
       "Index: []"
      ]
     },
     "execution_count": 19,
     "metadata": {},
     "output_type": "execute_result"
    }
   ],
   "source": [
    "# check duplicates again\n",
    "df_dups_1 = df_cosmetic[df_cosmetic.duplicated()]\n",
    "df_dups_1"
   ]
  },
  {
   "cell_type": "code",
   "execution_count": 20,
   "id": "f1653cb7",
   "metadata": {},
   "outputs": [],
   "source": [
    "# Columns'Product_name', 'title_hef' ,'ingredients', 'color' and 'size'are removed\n",
    "vars_list = ['website', 'country', 'category', 'subcategory', 'price', 'brand', 'form', 'type', 'rating', 'noofratings']\n",
    "df_cosmetic = pd.read_csv(os.path.join(path, '02 Data', 'Original Data', 'Ecommerce_cosmetic_dataset.csv'),usecols=vars_list, encoding='latin1', index_col=False)"
   ]
  },
  {
   "cell_type": "markdown",
   "id": "eb5b9556",
   "metadata": {},
   "source": [
    "### 'rating' Column correction"
   ]
  },
  {
   "cell_type": "code",
   "execution_count": 21,
   "id": "17340f33",
   "metadata": {},
   "outputs": [],
   "source": [
    "df_cosmetic['rating'] = df_cosmetic['rating'].str.replace(',', '.')"
   ]
  },
  {
   "cell_type": "code",
   "execution_count": 22,
   "id": "498a72b7",
   "metadata": {},
   "outputs": [],
   "source": [
    "df_cosmetic['rating'] = df_cosmetic['rating'].str.replace(' out of 5 stars', '')"
   ]
  },
  {
   "cell_type": "code",
   "execution_count": 23,
   "id": "b7c91a4b",
   "metadata": {},
   "outputs": [
    {
     "data": {
      "text/plain": [
       "0        3.90\n",
       "1        4.40\n",
       "2        4.40\n",
       "3        4.20\n",
       "4        4.30\n",
       "         ... \n",
       "12610    3.15\n",
       "12611    3.13\n",
       "12612    4.03\n",
       "12613    3.15\n",
       "12614    3.16\n",
       "Name: rating, Length: 12615, dtype: float64"
      ]
     },
     "execution_count": 23,
     "metadata": {},
     "output_type": "execute_result"
    }
   ],
   "source": [
    "# Changing data type of rating\n",
    "df_cosmetic['rating'] = df_cosmetic['rating'].astype('float')\n",
    "df_cosmetic['rating'] "
   ]
  },
  {
   "cell_type": "code",
   "execution_count": 24,
   "id": "ef4a94f3",
   "metadata": {},
   "outputs": [],
   "source": [
    "#replacing NaN values with the mean\n",
    "mean_value_rating = df_cosmetic['rating'].mean()\n",
    "df_cosmetic['rating'].fillna(mean_value_rating, inplace=True)"
   ]
  },
  {
   "cell_type": "code",
   "execution_count": 25,
   "id": "7176c73d",
   "metadata": {},
   "outputs": [],
   "source": [
    "# Replace values greater than 5 with 5:\n",
    "df_cosmetic.loc[df_cosmetic['rating'] > 5, 'rating'] = 5"
   ]
  },
  {
   "cell_type": "code",
   "execution_count": 26,
   "id": "1386f160",
   "metadata": {},
   "outputs": [
    {
     "data": {
      "text/plain": [
       "rating\n",
       "4.866494    2067\n",
       "4.300000     781\n",
       "4.200000     739\n",
       "4.500000     713\n",
       "4.400000     703\n",
       "            ... \n",
       "4.690000       1\n",
       "4.780000       1\n",
       "4.640000       1\n",
       "4.480000       1\n",
       "3.950000       1\n",
       "Name: count, Length: 181, dtype: int64"
      ]
     },
     "execution_count": 26,
     "metadata": {},
     "output_type": "execute_result"
    }
   ],
   "source": [
    "df_cosmetic['rating'].value_counts(dropna = False)"
   ]
  },
  {
   "cell_type": "markdown",
   "id": "56f6aff1",
   "metadata": {},
   "source": [
    "### 'noofratings' corrections"
   ]
  },
  {
   "cell_type": "code",
   "execution_count": 27,
   "id": "72feebb2",
   "metadata": {},
   "outputs": [],
   "source": [
    "df_cosmetic['noofratings'] = df_cosmetic['noofratings'].str.replace(',', '')"
   ]
  },
  {
   "cell_type": "code",
   "execution_count": 28,
   "id": "9084ed6f",
   "metadata": {},
   "outputs": [],
   "source": [
    "# Clean the column\n",
    "df_cosmetic['noofratings'] = df_cosmetic['noofratings'].str.replace(',', '')\n",
    "df_cosmetic['noofratings'] = df_cosmetic['noofratings'].str.replace('Ratings', '')\n",
    "df_cosmetic['noofratings'] = df_cosmetic['noofratings'].str.replace('ratings', '')\n",
    "df_cosmetic['noofratings'].replace({'New to Amazon': '0', 'No reviews': '0', 'Write A Review': '0'}, inplace=True)\n",
    "df_cosmetic['noofratings'] = df_cosmetic['noofratings'].fillna('0')  # Ensure NaN is replaced with string '0'\n",
    "\n",
    "\n",
    "# Convert to integer type\n",
    "df_cosmetic['noofratings']= df_cosmetic['noofratings'].astype(int)"
   ]
  },
  {
   "cell_type": "code",
   "execution_count": 29,
   "id": "c43e2320",
   "metadata": {},
   "outputs": [
    {
     "data": {
      "text/plain": [
       "noofratings\n",
       "0       1876\n",
       "14       323\n",
       "1        322\n",
       "11       321\n",
       "7        306\n",
       "        ... \n",
       "1220       1\n",
       "1169       1\n",
       "3290       1\n",
       "1699       1\n",
       "587        1\n",
       "Name: count, Length: 1906, dtype: int64"
      ]
     },
     "execution_count": 29,
     "metadata": {},
     "output_type": "execute_result"
    }
   ],
   "source": [
    "df_cosmetic['noofratings'].value_counts(dropna = False)"
   ]
  },
  {
   "cell_type": "markdown",
   "id": "b2f1976d",
   "metadata": {},
   "source": [
    "### 'type' column correction"
   ]
  },
  {
   "cell_type": "code",
   "execution_count": 30,
   "id": "a06a80f0",
   "metadata": {},
   "outputs": [],
   "source": [
    "# Calculate the mode of the 'type' column\n",
    "mode_value_type = df_cosmetic['type'].mode()[0]\n",
    "\n",
    "# Replace NaN values with the mode\n",
    "df_cosmetic['type'] = df_cosmetic['type'].fillna(mode_value_type)"
   ]
  },
  {
   "cell_type": "code",
   "execution_count": 31,
   "id": "4c90fab1",
   "metadata": {},
   "outputs": [
    {
     "data": {
      "text/plain": [
       "type\n",
       "all                               7839\n",
       "matte                              572\n",
       "combination, dry, normal, oily     528\n",
       "shimmer                            447\n",
       "Combination, Dry, Normal, Oily     381\n",
       "                                  ... \n",
       "Full Cover,Full                      1\n",
       "combinational,sensitive              1\n",
       "Lightweight Formula,Full             1\n",
       "Face                                 1\n",
       "fine, damaged                        1\n",
       "Name: count, Length: 133, dtype: int64"
      ]
     },
     "execution_count": 31,
     "metadata": {},
     "output_type": "execute_result"
    }
   ],
   "source": [
    "df_cosmetic['type'].value_counts(dropna = False)"
   ]
  },
  {
   "cell_type": "code",
   "execution_count": 32,
   "id": "f0573f5a",
   "metadata": {
    "scrolled": true
   },
   "outputs": [
    {
     "data": {
      "text/plain": [
       "website          0\n",
       "country          0\n",
       "category         0\n",
       "subcategory      0\n",
       "price          317\n",
       "brand            0\n",
       "form             0\n",
       "type             0\n",
       "rating           0\n",
       "noofratings      0\n",
       "dtype: int64"
      ]
     },
     "execution_count": 32,
     "metadata": {},
     "output_type": "execute_result"
    }
   ],
   "source": [
    "# finding missing values after data cleaning\n",
    "df_cosmetic.isnull().sum()"
   ]
  },
  {
   "cell_type": "markdown",
   "id": "48d4309c",
   "metadata": {},
   "source": [
    "### I will replace missing value of 'price' with mean"
   ]
  },
  {
   "cell_type": "code",
   "execution_count": 33,
   "id": "1440281d",
   "metadata": {},
   "outputs": [],
   "source": [
    "# Calculate the mean of the 'price' column\n",
    "mean_value_price = df_cosmetic['price'].mean()\n",
    "\n",
    "# Replace NaN values with the mean\n",
    "df_cosmetic['price'] = df_cosmetic['price'].fillna(mean_value_price)"
   ]
  },
  {
   "cell_type": "code",
   "execution_count": 34,
   "id": "8798d072",
   "metadata": {},
   "outputs": [
    {
     "data": {
      "text/plain": [
       "(12615, 10)"
      ]
     },
     "execution_count": 34,
     "metadata": {},
     "output_type": "execute_result"
    }
   ],
   "source": [
    "df_cosmetic.shape"
   ]
  },
  {
   "cell_type": "markdown",
   "id": "3c124cdf",
   "metadata": {},
   "source": [
    "## 4. Renaming Columns"
   ]
  },
  {
   "cell_type": "code",
   "execution_count": 35,
   "id": "acfa11ce",
   "metadata": {
    "scrolled": true
   },
   "outputs": [
    {
     "data": {
      "text/plain": [
       "Index(['website', 'country', 'category', 'subcategory', 'price', 'brand',\n",
       "       'form', 'type', 'rating', 'noofratings'],\n",
       "      dtype='object')"
      ]
     },
     "execution_count": 35,
     "metadata": {},
     "output_type": "execute_result"
    }
   ],
   "source": [
    "df_cosmetic.columns"
   ]
  },
  {
   "cell_type": "code",
   "execution_count": 36,
   "id": "7bf622fc",
   "metadata": {},
   "outputs": [],
   "source": [
    "# Rename the 'noofratings'column\n",
    "df_cosmetic.rename(columns = {'noofratings' : 'count of ratings'}, inplace = True)"
   ]
  },
  {
   "cell_type": "code",
   "execution_count": 37,
   "id": "1ef6df8d",
   "metadata": {
    "scrolled": true
   },
   "outputs": [
    {
     "data": {
      "text/plain": [
       "Index(['website', 'country', 'category', 'subcategory', 'price', 'brand',\n",
       "       'form', 'type', 'rating', 'count of ratings'],\n",
       "      dtype='object')"
      ]
     },
     "execution_count": 37,
     "metadata": {},
     "output_type": "execute_result"
    }
   ],
   "source": [
    "df_cosmetic.columns"
   ]
  },
  {
   "cell_type": "markdown",
   "id": "7f89063a",
   "metadata": {},
   "source": [
    "## 5. Data Understanding"
   ]
  },
  {
   "cell_type": "code",
   "execution_count": 38,
   "id": "a0c09fa1",
   "metadata": {
    "scrolled": false
   },
   "outputs": [
    {
     "data": {
      "text/html": [
       "<div>\n",
       "<style scoped>\n",
       "    .dataframe tbody tr th:only-of-type {\n",
       "        vertical-align: middle;\n",
       "    }\n",
       "\n",
       "    .dataframe tbody tr th {\n",
       "        vertical-align: top;\n",
       "    }\n",
       "\n",
       "    .dataframe thead th {\n",
       "        text-align: right;\n",
       "    }\n",
       "</style>\n",
       "<table border=\"1\" class=\"dataframe\">\n",
       "  <thead>\n",
       "    <tr style=\"text-align: right;\">\n",
       "      <th></th>\n",
       "      <th>price</th>\n",
       "      <th>rating</th>\n",
       "      <th>count of ratings</th>\n",
       "    </tr>\n",
       "  </thead>\n",
       "  <tbody>\n",
       "    <tr>\n",
       "      <th>count</th>\n",
       "      <td>12615.000000</td>\n",
       "      <td>12615.000000</td>\n",
       "      <td>12615.000000</td>\n",
       "    </tr>\n",
       "    <tr>\n",
       "      <th>mean</th>\n",
       "      <td>2281.180935</td>\n",
       "      <td>4.257113</td>\n",
       "      <td>994.659770</td>\n",
       "    </tr>\n",
       "    <tr>\n",
       "      <th>std</th>\n",
       "      <td>3118.747543</td>\n",
       "      <td>0.556765</td>\n",
       "      <td>6570.809313</td>\n",
       "    </tr>\n",
       "    <tr>\n",
       "      <th>min</th>\n",
       "      <td>1.700000</td>\n",
       "      <td>1.000000</td>\n",
       "      <td>0.000000</td>\n",
       "    </tr>\n",
       "    <tr>\n",
       "      <th>25%</th>\n",
       "      <td>499.000000</td>\n",
       "      <td>4.060000</td>\n",
       "      <td>6.000000</td>\n",
       "    </tr>\n",
       "    <tr>\n",
       "      <th>50%</th>\n",
       "      <td>1390.000000</td>\n",
       "      <td>4.300000</td>\n",
       "      <td>26.000000</td>\n",
       "    </tr>\n",
       "    <tr>\n",
       "      <th>75%</th>\n",
       "      <td>2799.500000</td>\n",
       "      <td>4.700000</td>\n",
       "      <td>266.500000</td>\n",
       "    </tr>\n",
       "    <tr>\n",
       "      <th>max</th>\n",
       "      <td>94099.000000</td>\n",
       "      <td>5.000000</td>\n",
       "      <td>220040.000000</td>\n",
       "    </tr>\n",
       "  </tbody>\n",
       "</table>\n",
       "</div>"
      ],
      "text/plain": [
       "              price        rating  count of ratings\n",
       "count  12615.000000  12615.000000      12615.000000\n",
       "mean    2281.180935      4.257113        994.659770\n",
       "std     3118.747543      0.556765       6570.809313\n",
       "min        1.700000      1.000000          0.000000\n",
       "25%      499.000000      4.060000          6.000000\n",
       "50%     1390.000000      4.300000         26.000000\n",
       "75%     2799.500000      4.700000        266.500000\n",
       "max    94099.000000      5.000000     220040.000000"
      ]
     },
     "execution_count": 38,
     "metadata": {},
     "output_type": "execute_result"
    }
   ],
   "source": [
    "# basic descriptive statistical analysis\n",
    "df_cosmetic.describe()"
   ]
  },
  {
   "cell_type": "markdown",
   "id": "22876dc5",
   "metadata": {},
   "source": [
    "#### Analysis makes sense"
   ]
  },
  {
   "cell_type": "code",
   "execution_count": 42,
   "id": "80ba29dd",
   "metadata": {},
   "outputs": [
    {
     "data": {
      "text/plain": [
       "(12615, 10)"
      ]
     },
     "execution_count": 42,
     "metadata": {},
     "output_type": "execute_result"
    }
   ],
   "source": [
    "df_cosmetic.shape"
   ]
  },
  {
   "cell_type": "markdown",
   "id": "38770dff",
   "metadata": {},
   "source": [
    "## Exporting dataframe"
   ]
  },
  {
   "cell_type": "code",
   "execution_count": 40,
   "id": "2a321890",
   "metadata": {},
   "outputs": [],
   "source": [
    "# export dataframe:\n",
    "df_cosmetic.to_csv(os.path.join(path, '02 Data','Prepared Data', 'cosmetic_clean.csv'))"
   ]
  }
 ],
 "metadata": {
  "kernelspec": {
   "display_name": "Python 3 (ipykernel)",
   "language": "python",
   "name": "python3"
  },
  "language_info": {
   "codemirror_mode": {
    "name": "ipython",
    "version": 3
   },
   "file_extension": ".py",
   "mimetype": "text/x-python",
   "name": "python",
   "nbconvert_exporter": "python",
   "pygments_lexer": "ipython3",
   "version": "3.11.7"
  }
 },
 "nbformat": 4,
 "nbformat_minor": 5
}
